{
 "cells": [
  {
   "cell_type": "markdown",
   "metadata": {},
   "source": [
    "# Importing Libraries"
   ]
  },
  {
   "cell_type": "code",
   "execution_count": 1,
   "metadata": {},
   "outputs": [],
   "source": [
    "from PyPDF2 import PdfReader\n",
    "import os\n",
    "from openai import OpenAI"
   ]
  },
  {
   "cell_type": "markdown",
   "metadata": {},
   "source": [
    "# Function that:\n",
    "\n",
    "1. Opens PDF\n",
    "2. Checks for the pages that contains the word \"Budget\"\n",
    "3. Extracts the text and chunks it\n",
    "4. Puts it in a .txt file"
   ]
  },
  {
   "cell_type": "code",
   "execution_count": 2,
   "metadata": {},
   "outputs": [
    {
     "name": "stdout",
     "output_type": "stream",
     "text": [
      "Error processing 20230330_jobcenter_kreis_kleve_-_amip_2023.pdf: EOF marker not found\n",
      "Error processing JCDA_AMIP2023_Website.pdf: EOF marker not found\n"
     ]
    },
    {
     "name": "stderr",
     "output_type": "stream",
     "text": [
      "Overwriting cache for 0 1437\n"
     ]
    },
    {
     "name": "stdout",
     "output_type": "stream",
     "text": [
      "Done processing PDFs and extracting text chunks.\n"
     ]
    }
   ],
   "source": [
    "def extract_budget_related_chunks(pdf_path):\n",
    "\n",
    "    \"\"\"\n",
    "    Extract text chunks from PDF pages that contain the word 'Budget'.\n",
    "    \"\"\"\n",
    "\n",
    "    chunks = []\n",
    "    reader = PdfReader(pdf_path)\n",
    "    for page in reader.pages:\n",
    "        text = page.extract_text()\n",
    "        if text and 'Budget' in text:\n",
    "            # Simple chunking logic: split by paragraphs or some delimiter\n",
    "            page_chunks = text.split('\\n\\n') # Example split by empty line\n",
    "            chunks.extend(page_chunks)\n",
    "    return chunks\n",
    "\n",
    "pdf_folder = '../Datasets/PDFs/'\n",
    "output_file_path = 'budget_chunks.txt'\n",
    "\n",
    "all_chunks = []\n",
    "\n",
    "# Process each PDF\n",
    "for pdf_file in os.listdir(pdf_folder):\n",
    "    if pdf_file.endswith('.pdf'):\n",
    "        pdf_path = os.path.join(pdf_folder, pdf_file)\n",
    "        try:\n",
    "            pdf_chunks = extract_budget_related_chunks(pdf_path)\n",
    "            all_chunks.extend(pdf_chunks)\n",
    "        except Exception as e:\n",
    "            print(f\"Error processing {pdf_file}: {e}\")\n",
    "\n",
    "# Save all chunks to a single file\n",
    "with open(output_file_path, 'w', encoding='utf-8') as file:\n",
    "    for chunk in all_chunks:\n",
    "        file.write(chunk + '\\n\\n') # Write each chunk and separate by empty lines\n",
    "\n",
    "print(\"Done processing PDFs and extracting text chunks.\")\n"
   ]
  },
  {
   "cell_type": "markdown",
   "metadata": {},
   "source": [
    "# Data Augmentation with GPT3.5\n",
    "\n",
    "Generating 100 text samples given a prompt for generating texts based on 3 different examples from different chunks of texts from Original PDFs"
   ]
  },
  {
   "cell_type": "code",
   "execution_count": null,
   "metadata": {},
   "outputs": [],
   "source": [
    "client = OpenAI(\n",
    "    api_key= ··· , # My API key here\n",
    ")\n",
    "\n",
    "generated_texts = []  # List to store generated text contents\n",
    "\n",
    "# Generating 100 texts \n",
    "\n",
    "for _ in range(100):\n",
    "\n",
    "    chat_completion = client.chat.completions.create(\n",
    "        messages=[\n",
    "            {\n",
    "                \"role\": \"system\",\n",
    "                \"content\": \"\"\"\n",
    "    Bitte generiere einen Text, der auf den folgenden Beispielen basiert:\n",
    "\n",
    "    Beispiel 1: Für das Jahr 2022 werden dem JC CB 9.976 TEUR Eingliederungsleistungen zur Verfügung stehen.\n",
    "\n",
    "    Beispiel 2: Gemäß der aktuellen Schätzwerttabelle vom 18.10.2018 steigt das Budget für das Jobcenter Region Hannover für Verwaltungskosten auf 100,4 Mio. € um 12,6 % (Erhöhung um 11,2 Mio. €). Für die Eingliederungsleistungen erhöht sich das Budget um 16,9 Mio. € auf 97,5 Mio. € (Steigerung um 21 %).\n",
    "\n",
    "    Generiere bitte einen weiteren Text, der ähnliche Budgetinformationen in einem deutschen Kontext beschreibt:\n",
    "    \"\"\",\n",
    "            }\n",
    "        ],\n",
    "        model=\"gpt-3.5-turbo\",\n",
    "    )\n",
    "    generated_content = chat_completion.choices[0].message.content # Get chat answer\n",
    "    generated_texts.append(generated_content)  # Add to the list"
   ]
  },
  {
   "cell_type": "markdown",
   "metadata": {},
   "source": [
    "# List to file.txt"
   ]
  },
  {
   "cell_type": "code",
   "execution_count": null,
   "metadata": {},
   "outputs": [],
   "source": [
    "with open('generated_texts.txt', 'w') as f:\n",
    "    for i in range(len(generated_texts)):\n",
    "         f.write(generated_texts[i])\n",
    "         f.write('\\n')"
   ]
  }
 ],
 "metadata": {
  "kernelspec": {
   "display_name": "Unstructured10",
   "language": "python",
   "name": "python3"
  },
  "language_info": {
   "codemirror_mode": {
    "name": "ipython",
    "version": 3
   },
   "file_extension": ".py",
   "mimetype": "text/x-python",
   "name": "python",
   "nbconvert_exporter": "python",
   "pygments_lexer": "ipython3",
   "version": "3.11.8"
  }
 },
 "nbformat": 4,
 "nbformat_minor": 2
}
