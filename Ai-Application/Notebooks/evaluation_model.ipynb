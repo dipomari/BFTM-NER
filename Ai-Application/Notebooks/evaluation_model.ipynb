{
 "cells": [
  {
   "cell_type": "code",
   "execution_count": 144,
   "metadata": {},
   "outputs": [],
   "source": [
    "from pathlib import Path\n",
    "import re\n",
    "from seqeval.metrics import classification_report as seqeval_classification_report\n",
    "from transformers import AutoTokenizer, AutoModelForTokenClassification\n",
    "import torch"
   ]
  },
  {
   "cell_type": "markdown",
   "metadata": {},
   "source": [
    "# Start with the same Functions used to train the model. \n",
    "## The test data has to be pre processed the same way as the input Data used for Training the model"
   ]
  },
  {
   "cell_type": "code",
   "execution_count": 184,
   "metadata": {},
   "outputs": [],
   "source": [
    "def read_conll(file_path):\n",
    "    file_path = Path(file_path)\n",
    "\n",
    "    raw_text = file_path.read_text().strip()\n",
    "    raw_docs = re.split(r'\\n\\t?\\n', raw_text)\n",
    "    token_docs = []\n",
    "    tag_docs = []\n",
    "    for doc in raw_docs:\n",
    "        tokens = []\n",
    "        tags = []\n",
    "        for line in doc.split('\\n'):\n",
    "            if line.strip() == \"\":  # Skip empty lines\n",
    "                continue\n",
    "            parts = line.split()\n",
    "            if len(parts) >= 3:  # Ensure there are enough parts\n",
    "                token = parts[0]  # First part is the token\n",
    "                tag = parts[-1]  # Last part is the tag\n",
    "                if tag.startswith(\"B-\") or tag.startswith(\"I-\") or tag == \"O\":  # Filter valid tags\n",
    "                    tokens.append(token)\n",
    "                    tags.append(tag)\n",
    "        if tokens and tags:  # Ensure non-empty before appending\n",
    "            token_docs.append(tokens)\n",
    "            tag_docs.append(tags)\n",
    "\n",
    "    return token_docs, tag_docs"
   ]
  },
  {
   "cell_type": "code",
   "execution_count": 185,
   "metadata": {},
   "outputs": [],
   "source": [
    "def encode_tags(tags, encodings):\n",
    "    encoded_labels = []\n",
    "    for doc_labels, doc_offset in zip(tags, encodings.offset_mapping):\n",
    "        # Create an array to hold the labels for each token in the tokenized input\n",
    "        doc_enc_labels = np.ones(len(doc_offset), dtype=int) * -100\n",
    "        \n",
    "        # Track the current position in the original labels list\n",
    "        label_idx = 0\n",
    "        for idx, offset in enumerate(doc_offset):\n",
    "            # Check if this token is the start of a new original token\n",
    "            if offset[0] == 0 and label_idx < len(doc_labels):\n",
    "                # Assign the label of the original token to the first subtoken\n",
    "                doc_enc_labels[idx] = tag2id[doc_labels[label_idx]]\n",
    "                label_idx += 1\n",
    "            # For subtokens that are not the start of a new original token, the label remains -100\n",
    "        \n",
    "        encoded_labels.append(doc_enc_labels.tolist())\n",
    "    \n",
    "    return encoded_labels"
   ]
  },
  {
   "cell_type": "code",
   "execution_count": 186,
   "metadata": {},
   "outputs": [],
   "source": [
    "def evaluate_model(model, test_dataset):\n",
    "    model.eval()\n",
    "    true_labels = []\n",
    "    predicted_labels = []\n",
    "\n",
    "    for example in test_dataset:\n",
    "        input_ids = example['input_ids'].unsqueeze(0)\n",
    "        with torch.no_grad():\n",
    "            outputs = model(input_ids)\n",
    "        logits = outputs.logits\n",
    "        predicted_ids = torch.argmax(logits, dim=2).squeeze().tolist()\n",
    "        labels = example['labels'].tolist()\n",
    "\n",
    "        # Filter out tokens with special value -100\n",
    "        filtered_pred = [p for p, l in zip(predicted_ids, labels) if l != -100]\n",
    "        filtered_label = [l for l in labels if l != -100]\n",
    "\n",
    "        # Convert label IDs back to labels\n",
    "        predicted_labels.extend([model.config.id2label[label_id] for label_id in filtered_pred])\n",
    "        true_labels.extend([model.config.id2label[label_id] for label_id in filtered_label])\n",
    "\n",
    "    # Print classification report\n",
    "    print(seqeval_classification_report([true_labels], [predicted_labels]))"
   ]
  },
  {
   "cell_type": "code",
   "execution_count": 187,
   "metadata": {},
   "outputs": [],
   "source": [
    "class custom_NER(torch.utils.data.Dataset):\n",
    "    def __init__(self, encodings, labels):\n",
    "        self.encodings = encodings\n",
    "        self.labels = labels\n",
    "\n",
    "    def __getitem__(self, idx):\n",
    "        item = {key: torch.tensor(val[idx]) for key, val in self.encodings.items()}\n",
    "        item['labels'] = torch.tensor(self.labels[idx])\n",
    "        return item\n",
    "\n",
    "    def __len__(self):\n",
    "        return len(self.labels)"
   ]
  },
  {
   "cell_type": "markdown",
   "metadata": {},
   "source": [
    "# Loading the Model"
   ]
  },
  {
   "cell_type": "code",
   "execution_count": 218,
   "metadata": {},
   "outputs": [],
   "source": [
    "model_path = '../Models/bftm'\n",
    "model = AutoModelForTokenClassification.from_pretrained(model_path)\n",
    "tokenizer = AutoTokenizer.from_pretrained(model_path)"
   ]
  },
  {
   "cell_type": "markdown",
   "metadata": {},
   "source": [
    "# Evaluating with two different Datasets"
   ]
  },
  {
   "cell_type": "markdown",
   "metadata": {},
   "source": [
    "# Evaluation First Dataset"
   ]
  },
  {
   "cell_type": "code",
   "execution_count": 219,
   "metadata": {},
   "outputs": [],
   "source": [
    "test_texts, test_tags = read_conll('../Datasets/p5.conll')\n",
    "\n",
    "# Construct unique tags set and tag-to-id mapping\n",
    "unique_tags = set(tag for doc in test_tags for tag in doc)\n",
    "tag2id = {tag: id for id, tag in enumerate(unique_tags)}\n",
    "id2tag = {id: tag for tag, id in tag2id.items()}\n",
    "\n",
    "\n",
    "test_encodings = tokenizer(test_texts, is_split_into_words=True, return_offsets_mapping=True, padding=True, truncation=True)\n",
    "\n",
    "# Encode tags for test dataset\n",
    "test_labels = encode_tags(test_tags, test_encodings)\n",
    "\n",
    "# Create test dataset\n",
    "test_dataset = custom_NER(test_encodings, test_labels)"
   ]
  },
  {
   "cell_type": "markdown",
   "metadata": {},
   "source": [
    "# Average length per Corpus"
   ]
  },
  {
   "cell_type": "code",
   "execution_count": 220,
   "metadata": {},
   "outputs": [
    {
     "name": "stdout",
     "output_type": "stream",
     "text": [
      "Average length: 891.3333333333334\n"
     ]
    }
   ],
   "source": [
    "total_length = sum(len(text) for text in test_texts)\n",
    "average_length = total_length / len(test_texts)\n",
    "print(\"Average length:\", average_length)\n"
   ]
  },
  {
   "cell_type": "markdown",
   "metadata": {},
   "source": [
    "# Evaluation Table"
   ]
  },
  {
   "cell_type": "code",
   "execution_count": 221,
   "metadata": {},
   "outputs": [
    {
     "name": "stdout",
     "output_type": "stream",
     "text": [
      "              precision    recall  f1-score   support\n",
      "\n",
      "  ALLOCATION       0.01      0.02      0.01       143\n",
      "      BUDGET       0.01      0.12      0.02        60\n",
      "         LOC       0.02      0.23      0.03        53\n",
      "         ORG       0.01      0.11      0.01        55\n",
      "        YEAR       0.00      0.00      0.00        65\n",
      "\n",
      "   micro avg       0.01      0.07      0.02       376\n",
      "   macro avg       0.01      0.09      0.02       376\n",
      "weighted avg       0.01      0.07      0.01       376\n",
      "\n"
     ]
    },
    {
     "name": "stderr",
     "output_type": "stream",
     "text": [
      "/Users/diegoportillaamarillas/opt/anaconda3/envs/trans/lib/python3.11/site-packages/seqeval/metrics/v1.py:57: UndefinedMetricWarning: Precision and F-score are ill-defined and being set to 0.0 in labels with no predicted samples. Use `zero_division` parameter to control this behavior.\n",
      "  _warn_prf(average, modifier, msg_start, len(result))\n"
     ]
    }
   ],
   "source": [
    "evaluate_model(model, test_dataset)"
   ]
  },
  {
   "cell_type": "markdown",
   "metadata": {},
   "source": [
    "# Evaluation Second Dataset"
   ]
  },
  {
   "cell_type": "code",
   "execution_count": 222,
   "metadata": {},
   "outputs": [],
   "source": [
    "test_texts, test_tags = read_conll('../Datasets/test.conll')\n",
    "\n",
    "# Construct unique tags set and tag-to-id mapping\n",
    "unique_tags = set(tag for doc in test_tags for tag in doc)\n",
    "tag2id = {tag: id for id, tag in enumerate(unique_tags)}\n",
    "id2tag = {id: tag for tag, id in tag2id.items()}\n",
    "\n",
    "# Tokenize test texts\n",
    "test_encodings = tokenizer(test_texts, is_split_into_words=True, return_offsets_mapping=True, padding=True, truncation=True)\n",
    "\n",
    "# Encode tags for test dataset\n",
    "test_labels = encode_tags(test_tags, test_encodings)\n",
    "\n",
    "# Create test dataset\n",
    "test_dataset = custom_NER(test_encodings, test_labels)"
   ]
  },
  {
   "cell_type": "code",
   "execution_count": 223,
   "metadata": {},
   "outputs": [
    {
     "name": "stdout",
     "output_type": "stream",
     "text": [
      "Average length: 720.0\n"
     ]
    }
   ],
   "source": [
    "total_length = sum(len(text) for text in test_texts)\n",
    "average_length = total_length / len(test_texts)\n",
    "print(\"Average length:\", average_length)\n"
   ]
  },
  {
   "cell_type": "code",
   "execution_count": 153,
   "metadata": {},
   "outputs": [
    {
     "name": "stdout",
     "output_type": "stream",
     "text": [
      "              precision    recall  f1-score   support\n",
      "\n",
      "  ALLOCATION       0.01      0.23      0.01        26\n",
      "      BUDGET       0.00      0.25      0.00         4\n",
      "         LOC       0.00      0.39      0.01        33\n",
      "         ORG       0.00      0.00      0.00       104\n",
      "        YEAR       0.00      0.00      0.00        73\n",
      "\n",
      "   micro avg       0.00      0.08      0.01       240\n",
      "   macro avg       0.00      0.17      0.00       240\n",
      "weighted avg       0.00      0.08      0.00       240\n",
      "\n"
     ]
    }
   ],
   "source": [
    "# Evaluate the model on the test dataset\n",
    "evaluate_model(model, test_dataset)\n"
   ]
  }
 ],
 "metadata": {
  "kernelspec": {
   "display_name": "trans",
   "language": "python",
   "name": "python3"
  },
  "language_info": {
   "codemirror_mode": {
    "name": "ipython",
    "version": 3
   },
   "file_extension": ".py",
   "mimetype": "text/x-python",
   "name": "python",
   "nbconvert_exporter": "python",
   "pygments_lexer": "ipython3",
   "version": "3.11.8"
  }
 },
 "nbformat": 4,
 "nbformat_minor": 2
}
